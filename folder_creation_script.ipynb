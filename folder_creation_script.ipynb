{
 "cells": [
  {
   "cell_type": "code",
   "execution_count": 1,
   "metadata": {},
   "outputs": [
    {
     "name": "stdout",
     "output_type": "stream",
     "text": [
      "1\n"
     ]
    }
   ],
   "source": [
    "print(1)"
   ]
  },
  {
   "cell_type": "code",
   "execution_count": 2,
   "metadata": {},
   "outputs": [
    {
     "name": "stdout",
     "output_type": "stream",
     "text": [
      "Project structure for '/mnt/a/CampusX/31_laundry_app/backend' has been created successfully!\n"
     ]
    }
   ],
   "source": [
    "import os\n",
    "\n",
    "# Define the folder structure\n",
    "folder_structure = {\n",
    "    'app': {\n",
    "        'config.py': None,\n",
    "        'models': {\n",
    "            'user.py': None\n",
    "        },\n",
    "        'controllers': {\n",
    "            'user_controller.py': None\n",
    "        },\n",
    "        'services': {\n",
    "            'user_service.py': None\n",
    "        },\n",
    "        'routes': {\n",
    "            'user_routes.py': None\n",
    "        },\n",
    "        'middlewares': {\n",
    "            'auth_middleware.py': None\n",
    "        },\n",
    "        'validators': {\n",
    "            'user_validator.py': None\n",
    "        },\n",
    "        'utils': {\n",
    "            'logger.py': None,\n",
    "            'helpers.py': None\n",
    "        },\n",
    "        '__init__.py': None\n",
    "    },\n",
    "    'tests': {\n",
    "        'test_user.py': None,\n",
    "        'test_helpers.py': None,\n",
    "        '__init__.py': None\n",
    "    },\n",
    "    'migrations': {\n",
    "        'versions': {}  # Placeholder for migration versions\n",
    "    },\n",
    "    'requirements.txt': None,\n",
    "    'Dockerfile': None,\n",
    "    'docker-compose.yml': None,\n",
    "    '.gitignore': None,\n",
    "    '.env': None,\n",
    "    'README.md': None,\n",
    "    'manage.py': None\n",
    "}\n",
    "\n",
    "def create_structure(base_path, structure):\n",
    "    for folder, content in structure.items():\n",
    "        folder_path = os.path.join(base_path, folder)\n",
    "        \n",
    "        # If content is None, create a file\n",
    "        if content is None:\n",
    "            try:\n",
    "                # Create the file if it's not a directory\n",
    "                if not os.path.isdir(folder_path):\n",
    "                    open(folder_path, 'w').close()\n",
    "                else:\n",
    "                    print(f\"Skipping {folder_path}: A directory exists where a file should be.\")\n",
    "            except PermissionError:\n",
    "                print(f\"Permission denied when creating {folder_path}. Skipping this file.\")\n",
    "        \n",
    "        # If content is a dictionary, it's a directory that contains more files or subdirectories\n",
    "        elif isinstance(content, dict):\n",
    "            os.makedirs(folder_path, exist_ok=True)\n",
    "            # Recurse into the directory\n",
    "            create_structure(folder_path, content)\n",
    "        \n",
    "        # If it's a list (e.g., a list of files), create them\n",
    "        elif isinstance(content, list):\n",
    "            os.makedirs(folder_path, exist_ok=True)\n",
    "            for file_name in content:\n",
    "                file_path = os.path.join(folder_path, file_name)\n",
    "                try:\n",
    "                    open(file_path, 'w').close()\n",
    "                except PermissionError:\n",
    "                    print(f\"Permission denied when creating {file_path}. Skipping this file.\")\n",
    "        else:\n",
    "            print(f\"Unexpected structure at {folder_path}\")\n",
    "\n",
    "# Define the base path where the project will be created\n",
    "base_path = r'/mnt/a/CampusX/31_laundry_app/backend'  # Change this to the appropriate path\n",
    "\n",
    "# Create the folder structure\n",
    "create_structure(base_path, folder_structure)\n",
    "\n",
    "print(f\"Project structure for '{base_path}' has been created successfully!\")\n"
   ]
  },
  {
   "cell_type": "code",
   "execution_count": 5,
   "metadata": {},
   "outputs": [
    {
     "name": "stdout",
     "output_type": "stream",
     "text": [
      "Requirement already satisfied: passlib in ./.venv/lib/python3.12/site-packages (1.7.4)\n"
     ]
    }
   ],
   "source": [
    "# bcrypt.__version__\n",
    "!pip install --upgrade passlib"
   ]
  },
  {
   "cell_type": "code",
   "execution_count": 1,
   "metadata": {},
   "outputs": [
    {
     "name": "stdout",
     "output_type": "stream",
     "text": [
      "2c2b751cd952be2f3968aed56db7fc1181eece01eb87dd121cb384b7faa68d98\n"
     ]
    }
   ],
   "source": [
    "import secrets\n",
    "\n",
    "jwt_secret = secrets.token_hex(32)  # Generates a 64-character hex key (256-bit)\n",
    "print(jwt_secret)\n"
   ]
  }
 ],
 "metadata": {
  "kernelspec": {
   "display_name": ".venv",
   "language": "python",
   "name": "python3"
  },
  "language_info": {
   "codemirror_mode": {
    "name": "ipython",
    "version": 3
   },
   "file_extension": ".py",
   "mimetype": "text/x-python",
   "name": "python",
   "nbconvert_exporter": "python",
   "pygments_lexer": "ipython3",
   "version": "3.12.3"
  }
 },
 "nbformat": 4,
 "nbformat_minor": 2
}
